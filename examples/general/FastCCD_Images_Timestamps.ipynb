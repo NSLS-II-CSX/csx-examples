{
 "cells": [
  {
   "cell_type": "markdown",
   "metadata": {},
   "source": [
    "# Example Notebook for Correcting and loading FastCCD Images\n",
    "\n",
    "This example reads data from the FastCCD and corrects and rotates the images. Included are some\n",
    "example of widgets to interact with the data\n",
    "\n",
    "## Getting Started\n",
    "\n",
    "Load the ``databroker`` moudle, ``csxtools`` and various other dependencies"
   ]
  },
  {
   "cell_type": "code",
   "execution_count": 1,
   "metadata": {
    "collapsed": false
   },
   "outputs": [],
   "source": [
    "import numpy as np\n",
    "from databroker import DataBroker, get_table, get_images, get_events\n",
    "from csxtools.utils import get_fastccd_images, get_images_to_4D\n",
    "from csxtools.ipynb import image_stack_to_movie, show_image_stack\n",
    "%matplotlib notebook\n",
    "from matplotlib import pyplot as plt\n",
    "from filestore.handlers import HandlerBase\n",
    "import h5py "
   ]
  },
  {
   "cell_type": "code",
   "execution_count": null,
   "metadata": {
    "collapsed": false
   },
   "outputs": [],
   "source": [
    "class AreaDetectorHDF5TimestampHandler(HandlerBase):\n",
    "    \"\"\"\n",
    "    Handler for data stored in one Dataset of an HDF5 file.\n",
    "    Parameters\n",
    "    ----------\n",
    "    filename : string\n",
    "        path to HDF5 file\n",
    "    key : string\n",
    "        key of the single HDF5 Dataset used by this Handler\n",
    "    frame_per_point : integer, optional\n",
    "        number of frames to return as one datum, default 1\n",
    "    \"\"\"\n",
    "    specs = {'AD_HDF5_TS'} | HandlerBase.specs\n",
    "    \n",
    "    def __init__(self, filename, frame_per_point=1):\n",
    "        self._fpp = frame_per_point\n",
    "        self._filename = filename\n",
    "        self._key = ['/entry/instrument/NDAttributes/NDArrayEpicsTSSec',\n",
    "                     '/entry/instrument/NDAttributes/NDArrayEpicsTSnSec']\n",
    "        self._file = None\n",
    "        self._dataset1 = None\n",
    "        self._dataset2 = None\n",
    "        self.open()\n",
    "\n",
    "    def __call__(self, point_number):\n",
    "        # Don't read out the dataset until it is requested for the first time.\n",
    "        if not self._dataset1:\n",
    "            self._dataset1 = self._file[self._key[0]]\n",
    "        if not self._dataset2:\n",
    "            self._dataset2 = self._file[self._key[1]]\n",
    "        start, stop = point_number * self._fpp, (point_number + 1) * self._fpp\n",
    "        rtn = self._dataset1[start:stop].squeeze()\n",
    "        rtn = rtn + (self._dataset2[start:stop].squeeze() * 1e-9)\n",
    "        #rtn = rtn.reshape(1,1, len(rtn))\n",
    "        return rtn\n",
    "    \n",
    "    def open(self):\n",
    "        if self._file:\n",
    "            return\n",
    "        self._file = h5py.File(self._filename, 'r')\n",
    "\n",
    "    def close(self):\n",
    "        super(AreaDetectorHDF5TimestampHandler, self).close()\n",
    "        self._file.close()\n",
    "        self._file = None\n",
    "    "
   ]
  },
  {
   "cell_type": "markdown",
   "metadata": {},
   "source": [
    "Set the logger level to info to see logging output, if required!"
   ]
  },
  {
   "cell_type": "code",
   "execution_count": null,
   "metadata": {
    "collapsed": true
   },
   "outputs": [],
   "source": [
    "import logging\n",
    "logging.getLogger().setLevel(logging.INFO)"
   ]
  },
  {
   "cell_type": "markdown",
   "metadata": {},
   "source": [
    "## Get the data headers from the DataBroker!"
   ]
  },
  {
   "cell_type": "code",
   "execution_count": null,
   "metadata": {
    "collapsed": false
   },
   "outputs": [],
   "source": [
    "bgnd = DataBroker['ce5042b7-00ae-49ca-9b11-b10c5661aaaa'] #[52440]"
   ]
  },
  {
   "cell_type": "markdown",
   "metadata": {},
   "source": [
    "## Get the timestamps"
   ]
  },
  {
   "cell_type": "code",
   "execution_count": null,
   "metadata": {
    "collapsed": false
   },
   "outputs": [],
   "source": [
    "img = [i for i in get_events(bgnd, ['fccd_image_lightfield'], handler_overrides={'fccd_image_lightfield':AreaDetectorHDF5TimestampHandler})]"
   ]
  },
  {
   "cell_type": "code",
   "execution_count": null,
   "metadata": {
    "collapsed": false
   },
   "outputs": [],
   "source": [
    "timestamps = img[0]['data']['fccd_image_lightfield']"
   ]
  },
  {
   "cell_type": "code",
   "execution_count": null,
   "metadata": {
    "collapsed": false
   },
   "outputs": [],
   "source": [
    "diff = np.diff(timestamps)\n",
    "fig, axes = plt.subplots(1)\n",
    "n = axes.hist(diff, bins=100)"
   ]
  },
  {
   "cell_type": "code",
   "execution_count": null,
   "metadata": {
    "collapsed": false
   },
   "outputs": [],
   "source": [
    "timestamps"
   ]
  },
  {
   "cell_type": "code",
   "execution_count": null,
   "metadata": {
    "collapsed": false
   },
   "outputs": [],
   "source": [
    "import csxtools\n",
    "csxtools.__version__"
   ]
  },
  {
   "cell_type": "code",
   "execution_count": null,
   "metadata": {
    "collapsed": false
   },
   "outputs": [],
   "source": [
    "import filestore\n",
    "filestore.__version__"
   ]
  },
  {
   "cell_type": "code",
   "execution_count": null,
   "metadata": {
    "collapsed": false
   },
   "outputs": [],
   "source": [
    "import databroker\n",
    "databroker.__version__"
   ]
  },
  {
   "cell_type": "code",
   "execution_count": null,
   "metadata": {
    "collapsed": true
   },
   "outputs": [],
   "source": []
  }
 ],
 "metadata": {
  "kernelspec": {
   "display_name": "xf23id1-srv1 - Analysis Conda Env",
   "language": "",
   "name": "srv1-analysis-kernel"
  },
  "language_info": {
   "codemirror_mode": {
    "name": "ipython",
    "version": 3
   },
   "file_extension": ".py",
   "mimetype": "text/x-python",
   "name": "python",
   "nbconvert_exporter": "python",
   "pygments_lexer": "ipython3",
   "version": "3.5.1"
  }
 },
 "nbformat": 4,
 "nbformat_minor": 0
}
